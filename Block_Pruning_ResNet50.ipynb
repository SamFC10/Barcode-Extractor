{
  "nbformat": 4,
  "nbformat_minor": 0,
  "metadata": {
    "colab": {
      "name": "Block Pruning ResNet50.ipynb",
      "provenance": [],
      "authorship_tag": "ABX9TyM1u5ESIPEwZKvZmUQ2FBz0",
      "include_colab_link": true
    },
    "kernelspec": {
      "name": "python3",
      "display_name": "Python 3"
    },
    "accelerator": "GPU"
  },
  "cells": [
    {
      "cell_type": "markdown",
      "metadata": {
        "id": "view-in-github",
        "colab_type": "text"
      },
      "source": [
        "<a href=\"https://colab.research.google.com/github/SamFC10/Barcode-Extractor/blob/master/Block_Pruning_ResNet50.ipynb\" target=\"_parent\"><img src=\"https://colab.research.google.com/assets/colab-badge.svg\" alt=\"Open In Colab\"/></a>"
      ]
    },
    {
      "cell_type": "code",
      "metadata": {
        "id": "4MMZ3aV1ZT0Y",
        "colab_type": "code",
        "colab": {}
      },
      "source": [
        "!pip install -U -q kaggle\n",
        "!mkdir -p ~/.kaggle"
      ],
      "execution_count": 0,
      "outputs": []
    },
    {
      "cell_type": "code",
      "metadata": {
        "id": "QAVY0-GDZ5mt",
        "colab_type": "code",
        "outputId": "441db3d4-5d0e-4459-8bcd-fc1e74666419",
        "colab": {
          "resources": {
            "http://localhost:8080/nbextensions/google.colab/files.js": {
              "data": "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",
              "ok": true,
              "headers": [
                [
                  "content-type",
                  "application/javascript"
                ]
              ],
              "status": 200,
              "status_text": ""
            }
          },
          "base_uri": "https://localhost:8080/",
          "height": 93
        }
      },
      "source": [
        "from google.colab import files\n",
        "files.upload()"
      ],
      "execution_count": 2,
      "outputs": [
        {
          "output_type": "display_data",
          "data": {
            "text/html": [
              "\n",
              "     <input type=\"file\" id=\"files-2e408988-a4c4-4cec-855b-75b5b32b48cf\" name=\"files[]\" multiple disabled />\n",
              "     <output id=\"result-2e408988-a4c4-4cec-855b-75b5b32b48cf\">\n",
              "      Upload widget is only available when the cell has been executed in the\n",
              "      current browser session. Please rerun this cell to enable.\n",
              "      </output>\n",
              "      <script src=\"/nbextensions/google.colab/files.js\"></script> "
            ],
            "text/plain": [
              "<IPython.core.display.HTML object>"
            ]
          },
          "metadata": {
            "tags": []
          }
        },
        {
          "output_type": "stream",
          "text": [
            "Saving kaggle.json to kaggle (1).json\n"
          ],
          "name": "stdout"
        },
        {
          "output_type": "execute_result",
          "data": {
            "text/plain": [
              "{'kaggle.json': b'{\"username\":\"samfc10\",\"key\":\"2e702218bf5985237a63a77e6a0513de\"}'}"
            ]
          },
          "metadata": {
            "tags": []
          },
          "execution_count": 2
        }
      ]
    },
    {
      "cell_type": "code",
      "metadata": {
        "id": "e9u4ua11acPt",
        "colab_type": "code",
        "colab": {}
      },
      "source": [
        "!cp kaggle.json ~/.kaggle/"
      ],
      "execution_count": 0,
      "outputs": []
    },
    {
      "cell_type": "code",
      "metadata": {
        "id": "EP8BUnPWalig",
        "colab_type": "code",
        "outputId": "da84f21c-6d49-4e59-b0a8-0e04fba3404c",
        "colab": {
          "base_uri": "https://localhost:8080/",
          "height": 72
        }
      },
      "source": [
        "!kaggle datasets download -d chetankv/dogs-cats-images"
      ],
      "execution_count": 4,
      "outputs": [
        {
          "output_type": "stream",
          "text": [
            "Warning: Your Kaggle API key is readable by other users on this system! To fix this, you can run 'chmod 600 /root/.kaggle/kaggle.json'\n",
            "dogs-cats-images.zip: Skipping, found more recently modified local copy (use --force to force download)\n"
          ],
          "name": "stdout"
        }
      ]
    },
    {
      "cell_type": "code",
      "metadata": {
        "id": "D3Lv8DzjaoZx",
        "colab_type": "code",
        "colab": {}
      },
      "source": [
        "import os\n",
        "import zipfile\n",
        "\n",
        "local_zip = '/content/dogs-cats-images.zip'\n",
        "zip_ref = zipfile.ZipFile(local_zip, 'r')\n",
        "zip_ref.extractall('/content')\n",
        "zip_ref.close()"
      ],
      "execution_count": 0,
      "outputs": []
    },
    {
      "cell_type": "code",
      "metadata": {
        "id": "2Y0Ky1-Abahj",
        "colab_type": "code",
        "outputId": "e4a6804d-4ce6-4b1e-fbf9-49bb98fac7dc",
        "colab": {
          "base_uri": "https://localhost:8080/",
          "height": 107
        }
      },
      "source": [
        "import numpy as np\n",
        "import tensorflow.compat.v1 as tf\n",
        "tf.disable_v2_behavior()\n",
        "\n",
        "from keras.preprocessing.image import ImageDataGenerator\n",
        "from tensorflow.keras.utils import to_categorical\n",
        "from tensorflow.keras.applications.resnet import preprocess_input"
      ],
      "execution_count": 6,
      "outputs": [
        {
          "output_type": "stream",
          "text": [
            "WARNING:tensorflow:From /usr/local/lib/python3.6/dist-packages/tensorflow/python/compat/v2_compat.py:96: disable_resource_variables (from tensorflow.python.ops.variable_scope) is deprecated and will be removed in a future version.\n",
            "Instructions for updating:\n",
            "non-resource variables are not supported in the long term\n"
          ],
          "name": "stdout"
        },
        {
          "output_type": "stream",
          "text": [
            "Using TensorFlow backend.\n"
          ],
          "name": "stderr"
        }
      ]
    },
    {
      "cell_type": "code",
      "metadata": {
        "id": "OYDOOkEscwMM",
        "colab_type": "code",
        "colab": {}
      },
      "source": [
        "train_gen = ImageDataGenerator(preprocessing_function = preprocess_input, width_shift_range=0.15,\n",
        "                             height_shift_range=0.15, fill_mode='nearest', zoom_range=0.15 ,\n",
        "                             horizontal_flip=True)\n",
        "valid_gen = ImageDataGenerator(preprocessing_function = preprocess_input)"
      ],
      "execution_count": 0,
      "outputs": []
    },
    {
      "cell_type": "code",
      "metadata": {
        "id": "_lbp7iGpcziR",
        "colab_type": "code",
        "outputId": "775d9ddf-1364-4232-86b8-3b33b373fff0",
        "colab": {
          "base_uri": "https://localhost:8080/",
          "height": 52
        }
      },
      "source": [
        "train = train_gen.flow_from_directory('/content/dog vs cat/dataset/training_set', \n",
        "                                      target_size = (112,112), batch_size=64, color_mode='rgb', \n",
        "                                      class_mode=\"categorical\", seed=1, shuffle=True)\n",
        "\n",
        "valid = valid_gen.flow_from_directory('/content/dog vs cat/dataset/test_set', \n",
        "                                      target_size = (112,112), batch_size=64, color_mode='rgb',\n",
        "                                      class_mode=\"categorical\", seed=2)"
      ],
      "execution_count": 8,
      "outputs": [
        {
          "output_type": "stream",
          "text": [
            "Found 8000 images belonging to 2 classes.\n",
            "Found 2000 images belonging to 2 classes.\n"
          ],
          "name": "stdout"
        }
      ]
    },
    {
      "cell_type": "code",
      "metadata": {
        "id": "0_h7SH5xc5fr",
        "colab_type": "code",
        "colab": {
          "base_uri": "https://localhost:8080/",
          "height": 89
        },
        "outputId": "7ec5fc84-c9fe-47f0-d7d6-1b383947d88e"
      },
      "source": [
        "base_model = tf.keras.applications.resnet.ResNet50(include_top=False, weights='imagenet', input_shape=(112,112,3))\n",
        "for layer in base_model.layers:\n",
        "    layer.trainable = False"
      ],
      "execution_count": 9,
      "outputs": [
        {
          "output_type": "stream",
          "text": [
            "WARNING:tensorflow:From /usr/local/lib/python3.6/dist-packages/tensorflow/python/ops/resource_variable_ops.py:1666: calling BaseResourceVariable.__init__ (from tensorflow.python.ops.resource_variable_ops) with constraint is deprecated and will be removed in a future version.\n",
            "Instructions for updating:\n",
            "If using Keras pass *_constraint arguments to layers.\n"
          ],
          "name": "stdout"
        }
      ]
    },
    {
      "cell_type": "code",
      "metadata": {
        "id": "DMoSdvHBc_pv",
        "colab_type": "code",
        "colab": {}
      },
      "source": [
        "x = tf.keras.layers.Flatten()(base_model.output)\n",
        "x = tf.keras.layers.Dense(1024, activation='relu')(x)\n",
        "output = tf.keras.layers.Dense(2, activation='softmax')(x)\n",
        "\n",
        "model = tf.keras.models.Model(inputs=[base_model.input], outputs=[output])"
      ],
      "execution_count": 0,
      "outputs": []
    },
    {
      "cell_type": "code",
      "metadata": {
        "id": "bPINvct0dFGm",
        "colab_type": "code",
        "outputId": "854cfcf8-0e75-4d32-e34f-e2b16d0e7c38",
        "colab": {
          "base_uri": "https://localhost:8080/",
          "height": 280
        }
      },
      "source": [
        "model.compile(loss='categorical_crossentropy', optimizer='adam', metrics=['accuracy'])\n",
        "model.fit_generator(train, steps_per_epoch = train.n//train.batch_size, \n",
        "                    validation_data=valid, validation_steps = valid.n//valid.batch_size, epochs=5)"
      ],
      "execution_count": 11,
      "outputs": [
        {
          "output_type": "stream",
          "text": [
            "WARNING:tensorflow:From <ipython-input-11-5dcfbb4df965>:3: Model.fit_generator (from tensorflow.python.keras.engine.training_v1) is deprecated and will be removed in a future version.\n",
            "Instructions for updating:\n",
            "Please use Model.fit, which supports generators.\n",
            "Epoch 1/5\n",
            "125/125 [==============================] - 59s 469ms/step - loss: 1.5309 - acc: 0.8443 - val_loss: 0.1617 - val_acc: 0.9471\n",
            "Epoch 2/5\n",
            "125/125 [==============================] - 57s 459ms/step - loss: 0.2249 - acc: 0.9043 - val_loss: 0.1587 - val_acc: 0.9509\n",
            "Epoch 3/5\n",
            "125/125 [==============================] - 56s 452ms/step - loss: 0.1858 - acc: 0.9231 - val_loss: 0.2174 - val_acc: 0.9437\n",
            "Epoch 4/5\n",
            "125/125 [==============================] - 57s 457ms/step - loss: 0.1909 - acc: 0.9191 - val_loss: 0.1634 - val_acc: 0.9504\n",
            "Epoch 5/5\n",
            "125/125 [==============================] - 58s 463ms/step - loss: 0.1751 - acc: 0.9284 - val_loss: 0.1666 - val_acc: 0.9483\n"
          ],
          "name": "stdout"
        },
        {
          "output_type": "execute_result",
          "data": {
            "text/plain": [
              "<tensorflow.python.keras.callbacks.History at 0x7f5a7c536d68>"
            ]
          },
          "metadata": {
            "tags": []
          },
          "execution_count": 11
        }
      ]
    },
    {
      "cell_type": "code",
      "metadata": {
        "id": "CWc7wiiKdIHE",
        "colab_type": "code",
        "outputId": "dda457d7-dd66-4abb-ad09-6dc6822c1607",
        "colab": {
          "base_uri": "https://localhost:8080/",
          "height": 141
        }
      },
      "source": [
        "%%time\n",
        "print('Base accuracy : %.4f' %model.evaluate_generator(valid, steps = valid.n//valid.batch_size)[1])"
      ],
      "execution_count": 12,
      "outputs": [
        {
          "output_type": "stream",
          "text": [
            "WARNING:tensorflow:From <timed eval>:1: Model.evaluate_generator (from tensorflow.python.keras.engine.training_v1) is deprecated and will be removed in a future version.\n",
            "Instructions for updating:\n",
            "Please use Model.evaluate, which supports generators.\n",
            "Base accuracy : 0.9483\n",
            "CPU times: user 8.1 s, sys: 278 ms, total: 8.38 s\n",
            "Wall time: 7.06 s\n"
          ],
          "name": "stdout"
        }
      ]
    },
    {
      "cell_type": "code",
      "metadata": {
        "id": "M6WVIJtKddy5",
        "colab_type": "code",
        "colab": {}
      },
      "source": [
        "end_index = [18, 28, 38, 50, 60, 70, 80, 92, 102, 112, 122, 132, 142, 154, 164, 174]\n",
        "block_name = []\n",
        "results = []"
      ],
      "execution_count": 0,
      "outputs": []
    },
    {
      "cell_type": "code",
      "metadata": {
        "id": "kzMlgMvfdjGb",
        "colab_type": "code",
        "outputId": "f4ff87f0-cbcf-45d4-d894-ea821907aa4f",
        "colab": {
          "base_uri": "https://localhost:8080/",
          "height": 1000
        }
      },
      "source": [
        "for end in end_index:\n",
        "    base = tf.keras.models.Model(inputs = [model.input], outputs = [model.layers[end].output])\n",
        "    for layer in base.layers:\n",
        "        layer.trainable = False\n",
        "    \n",
        "    new_model = tf.keras.models.Sequential()\n",
        "    new_model.add(base)\n",
        "    new_model.add(tf.keras.layers.Flatten())\n",
        "    new_model.add(tf.keras.layers.Dense(2, activation='softmax'))\n",
        "    \n",
        "    new_model.compile(loss='categorical_crossentropy', optimizer='adam', metrics=['accuracy'])\n",
        "    new_model.fit_generator(train, steps_per_epoch = train.n//train.batch_size, epochs=3, \n",
        "                            validation_data=valid, validation_steps = valid.n//valid.batch_size)\n",
        "    \n",
        "    print(model.layers[end].name[:12], 'accuracy = %.4f' %new_model.evaluate_generator(valid, \n",
        "                                                                                       steps = valid.n//valid.batch_size)[1])\n",
        "    \n",
        "    block_name.append(model.layers[end].name[:12])\n",
        "    results.append(new_model.evaluate_generator(valid, steps = valid.n//valid.batch_size)[1])"
      ],
      "execution_count": 14,
      "outputs": [
        {
          "output_type": "stream",
          "text": [
            "Epoch 1/3\n",
            "125/125 [==============================] - 55s 438ms/step - loss: 14.0536 - acc: 0.6315 - val_loss: 6.4000 - val_acc: 0.6111\n",
            "Epoch 2/3\n",
            "125/125 [==============================] - 51s 407ms/step - loss: 3.6380 - acc: 0.7036 - val_loss: 4.5220 - val_acc: 0.6767\n",
            "Epoch 3/3\n",
            "125/125 [==============================] - 51s 407ms/step - loss: 4.7347 - acc: 0.6880 - val_loss: 3.1238 - val_acc: 0.7660\n",
            "conv2_block1 accuracy = 0.7769\n",
            "Epoch 1/3\n",
            "125/125 [==============================] - 55s 441ms/step - loss: 18.1172 - acc: 0.6385 - val_loss: 2.8730 - val_acc: 0.7696\n",
            "Epoch 2/3\n",
            "125/125 [==============================] - 52s 415ms/step - loss: 4.5277 - acc: 0.7170 - val_loss: 2.8660 - val_acc: 0.7670\n",
            "Epoch 3/3\n",
            "125/125 [==============================] - 52s 416ms/step - loss: 5.5335 - acc: 0.7014 - val_loss: 3.3678 - val_acc: 0.7738\n",
            "conv2_block2 accuracy = 0.7691\n",
            "Epoch 1/3\n",
            "125/125 [==============================] - 56s 445ms/step - loss: 17.2984 - acc: 0.6593 - val_loss: 12.2732 - val_acc: 0.5387\n",
            "Epoch 2/3\n",
            "125/125 [==============================] - 53s 423ms/step - loss: 5.4390 - acc: 0.7075 - val_loss: 4.5069 - val_acc: 0.7732\n",
            "Epoch 3/3\n",
            "125/125 [==============================] - 52s 420ms/step - loss: 4.6936 - acc: 0.7418 - val_loss: 3.0893 - val_acc: 0.8006\n",
            "conv2_block3 accuracy = 0.7996\n",
            "Epoch 1/3\n",
            "125/125 [==============================] - 56s 447ms/step - loss: 6.8590 - acc: 0.6908 - val_loss: 2.7540 - val_acc: 0.7262\n",
            "Epoch 2/3\n",
            "125/125 [==============================] - 53s 423ms/step - loss: 1.8652 - acc: 0.7659 - val_loss: 1.4508 - val_acc: 0.8084\n",
            "Epoch 3/3\n",
            "125/125 [==============================] - 53s 423ms/step - loss: 1.8917 - acc: 0.7766 - val_loss: 1.7026 - val_acc: 0.8011\n",
            "conv3_block1 accuracy = 0.8011\n",
            "Epoch 1/3\n",
            "125/125 [==============================] - 56s 451ms/step - loss: 4.3750 - acc: 0.7201 - val_loss: 1.5767 - val_acc: 0.7877\n",
            "Epoch 2/3\n",
            "125/125 [==============================] - 54s 433ms/step - loss: 1.7931 - acc: 0.7692 - val_loss: 1.4723 - val_acc: 0.8223\n",
            "Epoch 3/3\n",
            "125/125 [==============================] - 53s 428ms/step - loss: 1.6221 - acc: 0.8016 - val_loss: 1.1131 - val_acc: 0.8518\n",
            "conv3_block2 accuracy = 0.8549\n",
            "Epoch 1/3\n",
            "125/125 [==============================] - 57s 459ms/step - loss: 7.6972 - acc: 0.6966 - val_loss: 1.2213 - val_acc: 0.8394\n",
            "Epoch 2/3\n",
            "125/125 [==============================] - 53s 426ms/step - loss: 1.5847 - acc: 0.7895 - val_loss: 1.5653 - val_acc: 0.8115\n",
            "Epoch 3/3\n",
            "125/125 [==============================] - 54s 431ms/step - loss: 1.7993 - acc: 0.7911 - val_loss: 1.5894 - val_acc: 0.8326\n",
            "conv3_block3 accuracy = 0.8352\n",
            "Epoch 1/3\n",
            "125/125 [==============================] - 58s 461ms/step - loss: 3.6489 - acc: 0.7753 - val_loss: 1.2924 - val_acc: 0.8383\n",
            "Epoch 2/3\n",
            "125/125 [==============================] - 55s 440ms/step - loss: 2.1685 - acc: 0.8089 - val_loss: 1.2151 - val_acc: 0.8817\n",
            "Epoch 3/3\n",
            "125/125 [==============================] - 55s 437ms/step - loss: 2.4396 - acc: 0.8273 - val_loss: 1.2603 - val_acc: 0.8977\n",
            "conv3_block4 accuracy = 0.8926\n",
            "Epoch 1/3\n",
            "125/125 [==============================] - 57s 455ms/step - loss: 1.9655 - acc: 0.7749 - val_loss: 0.5813 - val_acc: 0.8817\n",
            "Epoch 2/3\n",
            "125/125 [==============================] - 54s 432ms/step - loss: 0.7711 - acc: 0.8480 - val_loss: 0.9921 - val_acc: 0.8507\n",
            "Epoch 3/3\n",
            "125/125 [==============================] - 55s 440ms/step - loss: 0.7481 - acc: 0.8637 - val_loss: 0.6289 - val_acc: 0.9003\n",
            "conv4_block1 accuracy = 0.8936\n",
            "Epoch 1/3\n",
            "125/125 [==============================] - 57s 458ms/step - loss: 1.4751 - acc: 0.7977 - val_loss: 0.4794 - val_acc: 0.8740\n",
            "Epoch 2/3\n",
            "125/125 [==============================] - 54s 431ms/step - loss: 0.6232 - acc: 0.8630 - val_loss: 0.7028 - val_acc: 0.8642\n",
            "Epoch 3/3\n",
            "125/125 [==============================] - 53s 427ms/step - loss: 0.6854 - acc: 0.8730 - val_loss: 0.5029 - val_acc: 0.8988\n",
            "conv4_block2 accuracy = 0.8993\n",
            "Epoch 1/3\n",
            "125/125 [==============================] - 56s 448ms/step - loss: 1.5602 - acc: 0.8086 - val_loss: 0.8124 - val_acc: 0.8456\n",
            "Epoch 2/3\n",
            "125/125 [==============================] - 54s 434ms/step - loss: 0.5996 - acc: 0.8708 - val_loss: 0.6005 - val_acc: 0.8848\n",
            "Epoch 3/3\n",
            "125/125 [==============================] - 54s 433ms/step - loss: 0.5403 - acc: 0.8930 - val_loss: 0.8083 - val_acc: 0.8683\n",
            "conv4_block3 accuracy = 0.8729\n",
            "Epoch 1/3\n",
            "125/125 [==============================] - 56s 452ms/step - loss: 1.3706 - acc: 0.8280 - val_loss: 0.4013 - val_acc: 0.9179\n",
            "Epoch 2/3\n",
            "125/125 [==============================] - 54s 434ms/step - loss: 0.5690 - acc: 0.8863 - val_loss: 0.5233 - val_acc: 0.9194\n",
            "Epoch 3/3\n",
            "125/125 [==============================] - 54s 433ms/step - loss: 0.4681 - acc: 0.9072 - val_loss: 0.5277 - val_acc: 0.9070\n",
            "conv4_block4 accuracy = 0.9081\n",
            "Epoch 1/3\n",
            "125/125 [==============================] - 57s 456ms/step - loss: 1.2185 - acc: 0.8571 - val_loss: 0.3134 - val_acc: 0.9329\n",
            "Epoch 2/3\n",
            "125/125 [==============================] - 55s 440ms/step - loss: 0.3862 - acc: 0.9170 - val_loss: 0.5238 - val_acc: 0.9065\n",
            "Epoch 3/3\n",
            "125/125 [==============================] - 55s 436ms/step - loss: 0.4020 - acc: 0.9194 - val_loss: 0.3699 - val_acc: 0.9390\n",
            "conv4_block5 accuracy = 0.9416\n",
            "Epoch 1/3\n",
            "125/125 [==============================] - 57s 454ms/step - loss: 1.1854 - acc: 0.8800 - val_loss: 0.3049 - val_acc: 0.9483\n",
            "Epoch 2/3\n",
            "125/125 [==============================] - 55s 439ms/step - loss: 0.6122 - acc: 0.9114 - val_loss: 0.4245 - val_acc: 0.9313\n",
            "Epoch 3/3\n",
            "125/125 [==============================] - 55s 442ms/step - loss: 0.4623 - acc: 0.9317 - val_loss: 0.4653 - val_acc: 0.9390\n",
            "conv4_block6 accuracy = 0.9421\n",
            "Epoch 1/3\n",
            "125/125 [==============================] - 57s 460ms/step - loss: 0.6963 - acc: 0.8992 - val_loss: 0.6038 - val_acc: 0.9251\n",
            "Epoch 2/3\n",
            "125/125 [==============================] - 55s 443ms/step - loss: 0.5646 - acc: 0.9261 - val_loss: 0.8062 - val_acc: 0.9168\n",
            "Epoch 3/3\n",
            "125/125 [==============================] - 55s 443ms/step - loss: 0.6153 - acc: 0.9283 - val_loss: 0.6688 - val_acc: 0.9442\n",
            "conv5_block1 accuracy = 0.9437\n",
            "Epoch 1/3\n",
            "125/125 [==============================] - 57s 459ms/step - loss: 0.7382 - acc: 0.9034 - val_loss: 0.3473 - val_acc: 0.9499\n",
            "Epoch 2/3\n",
            "125/125 [==============================] - 56s 449ms/step - loss: 0.5937 - acc: 0.9259 - val_loss: 0.4194 - val_acc: 0.9520\n",
            "Epoch 3/3\n",
            "125/125 [==============================] - 56s 448ms/step - loss: 0.5354 - acc: 0.9399 - val_loss: 0.4726 - val_acc: 0.9473\n",
            "conv5_block2 accuracy = 0.9463\n",
            "Epoch 1/3\n",
            "125/125 [==============================] - 58s 463ms/step - loss: 1.0050 - acc: 0.9137 - val_loss: 0.7585 - val_acc: 0.9432\n",
            "Epoch 2/3\n",
            "125/125 [==============================] - 56s 451ms/step - loss: 0.7802 - acc: 0.9355 - val_loss: 0.8140 - val_acc: 0.9416\n",
            "Epoch 3/3\n",
            "125/125 [==============================] - 56s 448ms/step - loss: 1.0107 - acc: 0.9341 - val_loss: 1.1466 - val_acc: 0.9380\n",
            "conv5_block3 accuracy = 0.9380\n"
          ],
          "name": "stdout"
        }
      ]
    },
    {
      "cell_type": "code",
      "metadata": {
        "id": "1BoZGgoIeNn6",
        "colab_type": "code",
        "colab": {
          "base_uri": "https://localhost:8080/",
          "height": 582
        },
        "outputId": "a6966f2e-8a88-490f-f613-3034c2d90b2f"
      },
      "source": [
        "import matplotlib.pyplot as plt\n",
        "\n",
        "plt.figure(figsize=(18,8))\n",
        "markers_on = [1, 5, 9]\n",
        "plt.plot(results, marker='o', color= 'r', markevery=markers_on, linewidth=2.0, mew=5, ms=5)\n",
        "plt.xticks(range(0,16), labels=block_name, rotation=45, fontsize=13)\n",
        "plt.yticks(fontsize=13)\n",
        "plt.ylim(0.6, 1.)\n",
        "plt.xlabel('Blocks', fontsize=16)\n",
        "plt.ylabel('Accuracy', fontsize=16)\n",
        "plt.title('Discrimination of blocks of ResNet50', fontsize=16)\n",
        "plt.show()"
      ],
      "execution_count": 19,
      "outputs": [
        {
          "output_type": "display_data",
          "data": {
            "image/png": "[encoded data removed]",
            "text/plain": [
              "<Figure size 1296x576 with 1 Axes>"
            ]
          },
          "metadata": {
            "tags": [],
            "needs_background": "light"
          }
        }
      ]
    },
    {
      "cell_type": "code",
      "metadata": {
        "id": "Ntgdbh2Zxlip",
        "colab_type": "code",
        "colab": {}
      },
      "source": [
        ""
      ],
      "execution_count": 0,
      "outputs": []
    }
  ]
}